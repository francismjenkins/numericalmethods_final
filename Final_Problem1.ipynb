{
 "cells": [
  {
   "cell_type": "code",
   "execution_count": 2,
   "metadata": {},
   "outputs": [
    {
     "name": "stdout",
     "output_type": "stream",
     "text": [
      "f(4) =  12.0 for  degree 1 polynomial\n",
      "f(4) =  42.0 for  degree 2 polynomial\n",
      "f(4) =  48.0 for  degree 3 polynomial\n",
      "f(4) =  48.0 for  degree 4 polynomial\n"
     ]
    }
   ],
   "source": [
    "#!/usr/bin/python\n",
    "\n",
    "# Linear interpolation first through fourth order\n",
    "\n",
    "#!/usr/bin/env python \n",
    "# Newton's (divided difference) polynomial interpolation \n",
    "# Author: Frank Jenkins\n",
    "# Final exam, numerical methods -- fall 2018: problem 1\n",
    "# Portions of code adapted from:\n",
    "# Chapra & Canale, Numerical Methods for Engineers, Sixth Edition, McGraw Hill, New York, NY (2010) (pseudocode & general scheme).\n",
    "# Numerical Methods in Engineering with Python-3, J. Kiusalass, Cambridge Univ. Press, New York, NY (2013).\n",
    "\n",
    "x = [1, 2, 3, 5, 7, 8]\n",
    "y = [3, 6, 19, 99, 291, 444]\n",
    "r = 4.0\n",
    "\n",
    "\n",
    "def newton(x, y):  \n",
    "    n = len(x) - 1\n",
    "    a = y.copy()\n",
    "\n",
    "    for i in range(1, n + 1):\n",
    "        for j in range(n, i - 1, -1):\n",
    "            a[j] = float(a[j] - a[j-1])/float(x[j] - x[j-i])\n",
    "            \n",
    "    return a\n",
    "\n",
    "# eval function will evaluate the function at f(r) using the divided difference method\n",
    "# usage: b = eval(r, x, a) ... where r = the point (on the x-axis) being evaluated [in this case, f(4)], \n",
    "# and a = return values (coefficients for our 5th degree polynomial) from the newton function.\n",
    "\n",
    "def Eval(r, x, a, n):\n",
    "    b = a[n] \n",
    "    for i in range(n - 1, -1, -1):\n",
    "        b = b * (r - x[i]) + a[i] # evaluate f(r) \n",
    "    return b\n",
    "\n",
    "for n in range(1,5):\n",
    "    a = newton(x, y)\n",
    "    b = Eval(r, x, a, n)\n",
    "    print(\"f(4) = \", b, \"for \", \"degree\", n, \"polynomial\") \n"
   ]
  },
  {
   "cell_type": "code",
   "execution_count": null,
   "metadata": {},
   "outputs": [],
   "source": []
  }
 ],
 "metadata": {
  "kernelspec": {
   "display_name": "Python 3",
   "language": "python",
   "name": "python3"
  },
  "language_info": {
   "codemirror_mode": {
    "name": "ipython",
    "version": 3
   },
   "file_extension": ".py",
   "mimetype": "text/x-python",
   "name": "python",
   "nbconvert_exporter": "python",
   "pygments_lexer": "ipython3",
   "version": "3.6.5"
  }
 },
 "nbformat": 4,
 "nbformat_minor": 2
}
