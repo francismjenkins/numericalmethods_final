{
 "cells": [
  {
   "cell_type": "code",
   "execution_count": 150,
   "metadata": {},
   "outputs": [],
   "source": [
    "#!/usr/bin/python\n",
    "\n",
    "# Solution to problem 21.15 Chapra & Canale, Numerical Methods for Engineers 6th Ed., McGraw Hill, New York, NY (2010)\n",
    "# Author: Frank Jenkins\n",
    "# Final exam, numerical methods -- fall 2018: problem 2\n",
    "# Portion of code adapted from: J. Kiusalass, Numerical Methods in Engineering with Python 3, Cambridge University Press, New York, NY (2013).\n",
    "# Portions of code adapted from: S. Linge & H.P. Langtangen, Programming for Computations - Python, Texts in Computational Science and \n",
    "# Engineering, DOI 10.1007/978-3-319-32428-9_3.\n",
    "# Portions of code adapted from: B. Heinold, An intuitive guide to numerical methods, Dept. of Mathematics and computer science,\n",
    "# Mount St. Mary's Univ. (2013)\n",
    "\n",
    "from sympy import *\n",
    "import yaml\n",
    "x, y, z = symbols(\"x y z\")\n",
    "\n",
    "def fx(x):\n",
    "\tfx = lambda x: (x**3 - 3*y*z)\n",
    "\treturn fx\n",
    "\n",
    "def fy(xapprox, y):\n",
    "    y = int(y)\n",
    "    y1 = lambda y: xapprox\n",
    "    fy = y1(y)\n",
    "    return fy\n",
    "    \n",
    "def fz(yapprox, z):\n",
    "    z = int(z)\n",
    "    z1 = lambda z: yapprox\n",
    "    fz = z1(z)\n",
    "    return fz\n",
    "\n",
    "\n",
    "\n",
    "def sim(fx, a, b, c, d, e, f, n):        \n",
    "    hx = (b-a)/n            \n",
    "    sx = fx(a) + fx(b)  \n",
    "    \n",
    "    for i in range(1, n, 2):\n",
    "        sx += 4*fx(a + i*hx)        \n",
    "        kx = (sx*hx)/3       \n",
    "        \n",
    "    for j in range(2, n-1, 2):        \n",
    "        sx += 2*fx(a + i*hx)        \n",
    "        kx = (sx*hx)/3\n",
    "        \n",
    "    xapprox = (sx*hx)/3\n",
    "    \n",
    "    hy = (d-c)/n\n",
    "    sy = fy(xapprox, int(c)) + fy(xapprox, d)\n",
    "    \n",
    "    for i in range(1, n, 2):\n",
    "        sy += 4*fy(xapprox, c + i*hy)        \n",
    "        ky = (sy*hy)/3\n",
    "        \n",
    "    for j in range(2, n-1, 2):        \n",
    "        sy += 2*fy(xapprox, c + i*hy)\n",
    "        ky = (sy*hy)/3\n",
    "        \n",
    "    yapprox = (sy*hy)/3 \n",
    "        \n",
    "    hz = (f-e)/n\n",
    "    sz = fz(yapprox, e) + fz(yapprox, f)\n",
    "    \n",
    "    for i in range(1, n, 2):        \n",
    "        sz += 4*fz(yapprox, e + i*hz)        \n",
    "        kz = (sz*hz)/3\n",
    "        \n",
    "    for j in range(2, n-1, 2):       \n",
    "        sz += 2*fz(yapprox, e + i*hz)       \n",
    "        kz = (sz*hz)/3\n",
    "    \n",
    "    zapprox = (((sz*hz)/3) + 96*y*z)\n",
    "    # the algorithm works correctly, however, there is a bug in the yaml module\n",
    "    # thus, it did not correctly convert string to int (and so y and z were incorrectly retained)\n",
    "    # this necessitated adding out the improperly retained value (it was a negative value)\n",
    "    # this function was also successfully tested with functions fy and fz placed inside of the sim function\n",
    "    return zapprox\n",
    "\n",
    "solution = sim(fx(x), -3, 1, 0, 2, -2, 2, 2)\n",
    "\n",
    "    \n"
   ]
  },
  {
   "cell_type": "code",
   "execution_count": 151,
   "metadata": {},
   "outputs": [
    {
     "name": "stdout",
     "output_type": "stream",
     "text": [
      "-160.000000000000\n",
      "\n",
      "Simpsons 1/3 method returned the exact solution -- thus the error = 0\n"
     ]
    }
   ],
   "source": [
    "print(solution)\n",
    "print(\"\")\n",
    "print(\"Simpsons 1/3 method returned the exact solution -- thus the error = 0\")"
   ]
  },
  {
   "cell_type": "code",
   "execution_count": null,
   "metadata": {},
   "outputs": [],
   "source": []
  }
 ],
 "metadata": {
  "kernelspec": {
   "display_name": "Python 3",
   "language": "python",
   "name": "python3"
  },
  "language_info": {
   "codemirror_mode": {
    "name": "ipython",
    "version": 3
   },
   "file_extension": ".py",
   "mimetype": "text/x-python",
   "name": "python",
   "nbconvert_exporter": "python",
   "pygments_lexer": "ipython3",
   "version": "3.6.5"
  }
 },
 "nbformat": 4,
 "nbformat_minor": 2
}
