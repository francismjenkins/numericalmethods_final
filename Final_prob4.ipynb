{
 "cells": [
  {
   "cell_type": "code",
   "execution_count": 36,
   "metadata": {},
   "outputs": [
    {
     "name": "stdout",
     "output_type": "stream",
     "text": [
      "The approximate value of y(10), where y(0) = 1 is:  0.6255629729125527\n",
      "\n",
      "The approximate value of x(10), where x(0) = 0 is:  1.0724973069721884\n",
      "\n",
      "The solutions (calculated via Matlab) for y(10) and x(10) = 0.70535 and 1.00248 respectively\n",
      "To test the efficacy of this algorithm, we can try a smaller step size\n",
      "At h = 0.0001 the value of y(10) becomes 0.7052727156434714 and x(10) becomes 1.0025517871390233\n"
     ]
    }
   ],
   "source": [
    "# Final exam, numerical methods, fall 2018 -- problem 4\n",
    "# Author Frank Jenkins\n",
    "def dy(x):\n",
    "    dy = -0.5*x\n",
    "    return dy\n",
    "\n",
    "def dx(y):\n",
    "    dx = y\n",
    "    return dx\n",
    "\n",
    "t = 0\n",
    "h = 0.1\n",
    "y = 1\n",
    "x = 0\n",
    "sy = []\n",
    "sx = []\n",
    "\n",
    "while(t <= 10):\n",
    "    x += dx(y)*h\n",
    "    y += dy(x)*h\n",
    "    t += h\n",
    "    sy.append(y)\n",
    "    sx.append(x)\n",
    "    \n",
    "   \n",
    "print(\"The approximate value of y(10), where y(0) = 1 is: \", sy[-1])\n",
    "print(\"\")\n",
    "print(\"The approximate value of x(10), where x(0) = 0 is: \", sx[-1])\n",
    "print(\"\")\n",
    "print(\"The solutions (calculated via Matlab) for y(10) and x(10) = 0.70535 and 1.00248 respectively\")\n",
    "print(\"To test the efficacy of this algorithm, we can try a smaller step size\")\n",
    "print(\"At h = 0.0001 the value of y(10) becomes 0.7052727156434714 and x(10) becomes 1.0025517871390233\")\n",
    "\n"
   ]
  },
  {
   "cell_type": "code",
   "execution_count": null,
   "metadata": {},
   "outputs": [],
   "source": []
  }
 ],
 "metadata": {
  "kernelspec": {
   "display_name": "Python 3",
   "language": "python",
   "name": "python3"
  },
  "language_info": {
   "codemirror_mode": {
    "name": "ipython",
    "version": 3
   },
   "file_extension": ".py",
   "mimetype": "text/x-python",
   "name": "python",
   "nbconvert_exporter": "python",
   "pygments_lexer": "ipython3",
   "version": "3.6.5"
  }
 },
 "nbformat": 4,
 "nbformat_minor": 2
}
