{
 "cells": [
  {
   "cell_type": "code",
   "execution_count": 22,
   "metadata": {},
   "outputs": [
    {
     "name": "stdout",
     "output_type": "stream",
     "text": [
      "\n",
      "The approximation of dy using the rk4 algorithm at t = 3 is:  -23.1702878307761\n",
      "The true relative error at t = 3 is:  0.00350521853604846 %\n"
     ]
    },
    {
     "data": {
      "image/png": "[encoded data removed]",
      "text/plain": [
       "<Figure size 432x288 with 1 Axes>"
      ]
     },
     "metadata": {},
     "output_type": "display_data"
    }
   ],
   "source": [
    "# Author: Frank Jenkins\n",
    "\n",
    "import math\n",
    "import matplotlib.pyplot as plt\n",
    "\n",
    "\n",
    "def dy(t,y):\n",
    "    dy = y - t**2\n",
    "    return dy\n",
    "\n",
    "x2 = []\n",
    "time2 = []\n",
    "\n",
    "def rk4(y0, a, b, h):  \n",
    "    t, y = a, y0\n",
    "    while(t <= b):\n",
    "        k1 = h*dy(t, y)\n",
    "        k2 = h*dy(t + 0.5*h, y + 0.5*k1)\n",
    "        k3 = h*dy(t + 0.5*h, y + 0.5*k2)\n",
    "        k4 = h*dy(t + h, y + k3)\n",
    "        y = y + (1/6)*(k1 + 2*k2 + 2*k3 + k4)\n",
    "        t+=h\n",
    "        x2.append(y)\n",
    "        time2.append(t)\n",
    "    return y\n",
    "\n",
    "\n",
    "c1 = rk4(0, 0, 3.0, 0.2)\n",
    "\n",
    "plt.plot(time2, x2)\n",
    "plt.xlabel(\"Time\")\n",
    "plt.ylabel(\"Y\")\n",
    "print(\"\")\n",
    "print(\"The approximation of dy using the rk4 algorithm at t = 3 is: \", x2[-1])\n",
    "print(\"The true relative error at t = 3 is: \", (((-23.1711/x2[-1]) - 1)*100),\"%\")\n"
   ]
  },
  {
   "cell_type": "code",
   "execution_count": 23,
   "metadata": {},
   "outputs": [
    {
     "name": "stdout",
     "output_type": "stream",
     "text": [
      "The approximation of dy using Euler's method at t=3 is:  -21.834536956908018\n",
      "\n",
      "The true relative error is:  6.121325337605188 %\n",
      "\n"
     ]
    },
    {
     "data": {
      "image/png": "[encoded data removed]",
      "text/plain": [
       "<Figure size 432x288 with 1 Axes>"
      ]
     },
     "metadata": {},
     "output_type": "display_data"
    }
   ],
   "source": [
    "y0 = 0\n",
    "t = 0\n",
    "h = 0.2\n",
    "y2 = []\n",
    "t2 = []\n",
    "\n",
    "def euler(dy, y0, t, h):\n",
    "\ty = y0\n",
    "\twhile t <= 3:\n",
    "\t\tt2.append(t)\n",
    "\t\tt += h\n",
    "\t\ty += h * dy(t,y)\n",
    "\t\ty2.append(y)\n",
    "\treturn y\n",
    "\n",
    "g = euler(dy, y0, t, h)\n",
    "print(\"The approximation of dy using Euler's method at t=3 is: \", g)\n",
    "print(\"\")\n",
    "print(\"The true relative error is: \", (((-23.1711/g) - 1)*100),\"%\")\n",
    "\n",
    "plt.plot(t2, y2)\n",
    "plt.xlabel(\"Time\")\n",
    "plt.ylabel(\"Y\")\n",
    "print(\"\")\n",
    " \n"
   ]
  },
  {
   "cell_type": "code",
   "execution_count": null,
   "metadata": {},
   "outputs": [],
   "source": []
  }
 ],
 "metadata": {
  "kernelspec": {
   "display_name": "Python 3",
   "language": "python",
   "name": "python3"
  },
  "language_info": {
   "codemirror_mode": {
    "name": "ipython",
    "version": 3
   },
   "file_extension": ".py",
   "mimetype": "text/x-python",
   "name": "python",
   "nbconvert_exporter": "python",
   "pygments_lexer": "ipython3",
   "version": "3.6.5"
  }
 },
 "nbformat": 4,
 "nbformat_minor": 2
}
